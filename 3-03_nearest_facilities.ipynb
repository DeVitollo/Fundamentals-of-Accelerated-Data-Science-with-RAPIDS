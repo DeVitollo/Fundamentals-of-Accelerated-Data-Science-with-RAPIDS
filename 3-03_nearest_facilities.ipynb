{
 "cells": [
  {
   "cell_type": "markdown",
   "metadata": {},
   "source": [
    "# Week 2: Identify Nearest Health Facilities"
   ]
  },
  {
   "cell_type": "markdown",
   "metadata": {},
   "source": [
    "<span style=\"color:red\">\n",
    "**UPDATE**\n",
    "\n",
    "Thank you for your analysis. Despite our warning efforts so far, the virus continues to spread rapidly. We want to get infected individuals treatment as quickly as possible, so we need your help to calculate which hospital or clinic is closest to each known infected individual in the population.\n",
    "</span>\n",
    "\n",
    "Your goal for this notebook will be to identify the nearest hospital or clinic for each infected person."
   ]
  },
  {
   "cell_type": "markdown",
   "metadata": {},
   "source": [
    "## Imports"
   ]
  },
  {
   "cell_type": "code",
   "execution_count": 1,
   "metadata": {},
   "outputs": [],
   "source": [
    "import cudf\n",
    "import cuml\n",
    "import cupy as cp"
   ]
  },
  {
   "cell_type": "markdown",
   "metadata": {},
   "source": [
    "## Load Population Data"
   ]
  },
  {
   "cell_type": "markdown",
   "metadata": {},
   "source": [
    "Begin by loading the `lat`, `long` and `infected` columns from `'./data/week2.csv'` into a cuDF data frame called `gdf`."
   ]
  },
  {
   "cell_type": "code",
   "execution_count": 2,
   "metadata": {},
   "outputs": [],
   "source": [
    "gdf = cudf.read_csv('./data/week2.csv')"
   ]
  },
  {
   "cell_type": "markdown",
   "metadata": {},
   "source": [
    "## Load Hospital and Clinics Data"
   ]
  },
  {
   "cell_type": "markdown",
   "metadata": {},
   "source": [
    "For this step, your goal is to create an `all_med` cuDF data frame that contains the latitudes and longitudes of all the hospitals (data found at `'./data/hospitals.csv'`) and clinics (data found at `'./data/clinics.csv'`)."
   ]
  },
  {
   "cell_type": "code",
   "execution_count": 3,
   "metadata": {},
   "outputs": [],
   "source": [
    "hospitals = cudf.read_csv('./data/hospitals.csv')\n",
    "clinics = cudf.read_csv('./data/clinics.csv')\n",
    "all_med = cudf.concat([hospitals,clinics])[['Latitude','Longitude']]\n",
    "del(hospitals,clinics)"
   ]
  },
  {
   "cell_type": "markdown",
   "metadata": {},
   "source": [
    "Since we will be using the coordinates of those facilities, keep only those rows that are non-null in both  `Latitude` and `Longitude`."
   ]
  },
  {
   "cell_type": "code",
   "execution_count": 4,
   "metadata": {},
   "outputs": [],
   "source": [
    "all_med = all_med.dropna()"
   ]
  },
  {
   "cell_type": "markdown",
   "metadata": {},
   "source": [
    "## Make Grid Coordinates for Medical Facilities"
   ]
  },
  {
   "cell_type": "markdown",
   "metadata": {},
   "source": [
    "Provided for you in the next cell (which you can expand by clicking on the \"...\", and contract again after executing by clicking on the blue left border of the cell) is the lat/long to grid coordinates converter you have used earlier in the workshop. Use this converter to create grid coordinate values stored in `northing` and `easting` columns of the `all_med` data frame you created in the last step."
   ]
  },
  {
   "cell_type": "code",
   "execution_count": null,
   "metadata": {
    "jupyter": {
     "source_hidden": true
    }
   },
   "outputs": [],
   "source": [
    "# https://www.ordnancesurvey.co.uk/docs/support/guide-coordinate-systems-great-britain.pdf\n",
    "\n",
    "def latlong2osgbgrid_cupy(lat, long, input_degrees=True):\n",
    "    '''\n",
    "    Converts latitude and longitude (ellipsoidal) coordinates into northing and easting (grid) coordinates, using a Transverse Mercator projection.\n",
    "    \n",
    "    Inputs:\n",
    "    lat: latitude coordinate (N)\n",
    "    long: longitude coordinate (E)\n",
    "    input_degrees: if True (default), interprets the coordinates as degrees; otherwise, interprets coordinates as radians\n",
    "    \n",
    "    Output:\n",
    "    (northing, easting)\n",
    "    '''\n",
    "    \n",
    "    if input_degrees:\n",
    "        lat = lat * cp.pi/180\n",
    "        long = long * cp.pi/180\n",
    "\n",
    "    a = 6377563.396\n",
    "    b = 6356256.909\n",
    "    e2 = (a**2 - b**2) / a**2\n",
    "\n",
    "    N0 = -100000 # northing of true origin\n",
    "    E0 = 400000 # easting of true origin\n",
    "    F0 = .9996012717 # scale factor on central meridian\n",
    "    phi0 = 49 * cp.pi / 180 # latitude of true origin\n",
    "    lambda0 = -2 * cp.pi / 180 # longitude of true origin and central meridian\n",
    "    \n",
    "    sinlat = cp.sin(lat)\n",
    "    coslat = cp.cos(lat)\n",
    "    tanlat = cp.tan(lat)\n",
    "    \n",
    "    latdiff = lat-phi0\n",
    "    longdiff = long-lambda0\n",
    "\n",
    "    n = (a-b) / (a+b)\n",
    "    nu = a * F0 * (1 - e2 * sinlat ** 2) ** -.5\n",
    "    rho = a * F0 * (1 - e2) * (1 - e2 * sinlat ** 2) ** -1.5\n",
    "    eta2 = nu / rho - 1\n",
    "    M = b * F0 * ((1 + n + 5/4 * (n**2 + n**3)) * latdiff - \n",
    "                  (3*(n+n**2) + 21/8 * n**3) * cp.sin(latdiff) * cp.cos(lat+phi0) +\n",
    "                  15/8 * (n**2 + n**3) * cp.sin(2*(latdiff)) * cp.cos(2*(lat+phi0)) - \n",
    "                  35/24 * n**3 * cp.sin(3*(latdiff)) * cp.cos(3*(lat+phi0)))\n",
    "    I = M + N0\n",
    "    II = nu/2 * sinlat * coslat\n",
    "    III = nu/24 * sinlat * coslat ** 3 * (5 - tanlat ** 2 + 9 * eta2)\n",
    "    IIIA = nu/720 * sinlat * coslat ** 5 * (61-58 * tanlat**2 + tanlat**4)\n",
    "    IV = nu * coslat\n",
    "    V = nu / 6 * coslat**3 * (nu/rho - cp.tan(lat)**2)\n",
    "    VI = nu / 120 * coslat ** 5 * (5 - 18 * tanlat**2 + tanlat**4 + 14 * eta2 - 58 * tanlat**2 * eta2)\n",
    "\n",
    "    northing = I + II * longdiff**2 + III * longdiff**4 + IIIA * longdiff**6\n",
    "    easting = E0 + IV * longdiff + V * longdiff**3 + VI * longdiff**5\n",
    "\n",
    "    return(northing, easting)"
   ]
  },
  {
   "cell_type": "code",
   "execution_count": 5,
   "metadata": {},
   "outputs": [],
   "source": [
    "def latlong2osgbgrid_cupy(lat, long, input_degrees=True):\n",
    "    '''\n",
    "    Converts latitude and longitude (ellipsoidal) coordinates into northing and easting (grid) coordinates, using a Transverse Mercator projection.\n",
    "    \n",
    "    Inputs:\n",
    "    lat: latitude coordinate (N)\n",
    "    long: longitude coordinate (E)\n",
    "    input_degrees: if True (default), interprets the coordinates as degrees; otherwise, interprets coordinates as radians\n",
    "    \n",
    "    Output:\n",
    "    (northing, easting)\n",
    "    '''\n",
    "    \n",
    "    if input_degrees:\n",
    "        lat = lat * cp.pi/180\n",
    "        long = long * cp.pi/180\n",
    "\n",
    "    a = 6377563.396\n",
    "    b = 6356256.909\n",
    "    e2 = (a**2 - b**2) / a**2\n",
    "\n",
    "    N0 = -100000 # northing of true origin\n",
    "    E0 = 400000 # easting of true origin\n",
    "    F0 = .9996012717 # scale factor on central meridian\n",
    "    phi0 = 49 * cp.pi / 180 # latitude of true origin\n",
    "    lambda0 = -2 * cp.pi / 180 # longitude of true origin and central meridian\n",
    "    \n",
    "    sinlat = cp.sin(lat)\n",
    "    coslat = cp.cos(lat)\n",
    "    tanlat = cp.tan(lat)\n",
    "    \n",
    "    latdiff = lat-phi0\n",
    "    longdiff = long-lambda0\n",
    "\n",
    "    n = (a-b) / (a+b)\n",
    "    nu = a * F0 * (1 - e2 * sinlat ** 2) ** -.5\n",
    "    rho = a * F0 * (1 - e2) * (1 - e2 * sinlat ** 2) ** -1.5\n",
    "    eta2 = nu / rho - 1\n",
    "    M = b * F0 * ((1 + n + 5/4 * (n**2 + n**3)) * latdiff - \n",
    "                  (3*(n+n**2) + 21/8 * n**3) * cp.sin(latdiff) * cp.cos(lat+phi0) +\n",
    "                  15/8 * (n**2 + n**3) * cp.sin(2*(latdiff)) * cp.cos(2*(lat+phi0)) - \n",
    "                  35/24 * n**3 * cp.sin(3*(latdiff)) * cp.cos(3*(lat+phi0)))\n",
    "    I = M + N0\n",
    "    II = nu/2 * sinlat * coslat\n",
    "    III = nu/24 * sinlat * coslat ** 3 * (5 - tanlat ** 2 + 9 * eta2)\n",
    "    IIIA = nu/720 * sinlat * coslat ** 5 * (61-58 * tanlat**2 + tanlat**4)\n",
    "    IV = nu * coslat\n",
    "    V = nu / 6 * coslat**3 * (nu/rho - cp.tan(lat)**2)\n",
    "    VI = nu / 120 * coslat ** 5 * (5 - 18 * tanlat**2 + tanlat**4 + 14 * eta2 - 58 * tanlat**2 * eta2)\n",
    "\n",
    "    northing = I + II * longdiff**2 + III * longdiff**4 + IIIA * longdiff**6\n",
    "    easting = E0 + IV * longdiff + V * longdiff**3 + VI * longdiff**5\n",
    "\n",
    "    return(northing, easting)"
   ]
  },
  {
   "cell_type": "code",
   "execution_count": 6,
   "metadata": {},
   "outputs": [],
   "source": [
    "(northing,easting) = latlong2osgbgrid_cupy(all_med['Latitude'],all_med['Longitude'])\n",
    "all_med['northing'] = northing\n",
    "all_med['easting'] = easting"
   ]
  },
  {
   "cell_type": "markdown",
   "metadata": {},
   "source": [
    "## Find Closest Hospital or Clinic for Infected"
   ]
  },
  {
   "cell_type": "markdown",
   "metadata": {},
   "source": [
    "Fit `cuml.NearestNeighbors` with `all_med`'s `northing` and `easting` values, using the named argument `n_neighbors` set to `1`, and save the model as `knn`."
   ]
  },
  {
   "cell_type": "code",
   "execution_count": 7,
   "metadata": {},
   "outputs": [
    {
     "data": {
      "text/plain": [
       "NearestNeighbors()"
      ]
     },
     "execution_count": 7,
     "metadata": {},
     "output_type": "execute_result"
    }
   ],
   "source": [
    "knn = cuml.NearestNeighbors(n_neighbors=1)\n",
    "knn.fit(all_med[['northing','easting']])"
   ]
  },
  {
   "cell_type": "markdown",
   "metadata": {},
   "source": [
    "Save every infected member in `gdf` into a new dataframe called `infected_gdf`."
   ]
  },
  {
   "cell_type": "code",
   "execution_count": 8,
   "metadata": {},
   "outputs": [],
   "source": [
    "infected_gdf = gdf.loc[gdf.infected==1]"
   ]
  },
  {
   "cell_type": "markdown",
   "metadata": {},
   "source": [
    "Create `northing` and `easting` values for `infected_gdf`."
   ]
  },
  {
   "cell_type": "code",
   "execution_count": 9,
   "metadata": {},
   "outputs": [],
   "source": [
    "(northing,easting) = latlong2osgbgrid_cupy(infected_gdf['lat'],infected_gdf['long'])\n",
    "infected_gdf['northing'] = northing\n",
    "infected_gdf['easting'] = easting"
   ]
  },
  {
   "cell_type": "markdown",
   "metadata": {},
   "source": [
    "Use `knn.kneighbors` with `n_neighbors=1` on `infected_gdf`'s `northing` and `easting` values. Save the return values in `distances` and `indices`."
   ]
  },
  {
   "cell_type": "code",
   "execution_count": 10,
   "metadata": {},
   "outputs": [
    {
     "ename": "RuntimeError",
     "evalue": "CUDA error encountered at: file=_deps/raft-src/cpp/include/raft/spatial/knn/detail/knn_brute_force_faiss.cuh line=355: call='cudaPeekAtLastError()', Reason=cudaErrorIllegalAddress:an illegal memory access was encountered\nObtained 64 stack frames\n#0 in /opt/conda/envs/rapids/lib/python3.8/site-packages/cuml/common/../../../../libcuml++.so(_ZN4raft9exception18collect_call_stackEv+0x3b) [0x7f6c93c2f54b]\n#1 in /opt/conda/envs/rapids/lib/python3.8/site-packages/cuml/common/../../../../libcuml++.so(_ZN4raft10cuda_errorC1ERKNSt7__cxx1112basic_stringIcSt11char_traitsIcESaIcEEE+0xbd) [0x7f6c93c30a8d]\n#2 in /opt/conda/envs/rapids/lib/python3.8/site-packages/cuml/common/../../../../libraft_nn.so(_ZN4raft7spatial3knn6detail20brute_force_knn_implIjlfEEvRKNS_8handle_tERSt6vectorIPT1_SaIS9_EERS7_IT_SaISD_EESD_S9_SD_PT0_S9_SD_bbPS7_ISH_SaISH_EENS_8distance12DistanceTypeEf+0x1ffd) [0x7f6c6fd1208d]\n#3 in /opt/conda/envs/rapids/lib/python3.8/site-packages/cuml/common/../../../../libraft_nn.so(_ZN4raft7spatial3knn6detail19k_closest_landmarksIlfjEEvRKNS_8handle_tERNS1_14BallCoverIndexIT_T0_T1_EEPKS9_SA_SA_PS8_PS9_+0xbf) [0x7f6c6fd12bff]\n#4 in /opt/conda/envs/rapids/lib/python3.8/site-packages/cuml/common/../../../../libraft_nn.so(_ZN4raft7spatial3knn6detail13rbc_knn_queryIlfjNS2_13EuclideanFuncIfjEEEEvRKNS_8handle_tERNS1_14BallCoverIndexIT_T0_T1_EESC_PKSB_SC_PSA_PSB_T2_bf+0x14e) [0x7f6c6fd246de]\n#5 in /opt/conda/envs/rapids/lib/python3.8/site-packages/cuml/common/../../../../libraft_nn.so(_ZN4raft7spatial3knn13rbc_knn_queryIlfjEEvRKNS_8handle_tERNS1_14BallCoverIndexIT_T0_T1_EES9_PKS8_S9_PS7_PS8_bf+0x5f) [0x7f6c6fd24d7f]\n#6 in /opt/conda/envs/rapids/lib/python3.8/site-packages/cuml/common/../../../../libcuml++.so(_ZN2ML13rbc_knn_queryERKN4raft8handle_tERNS0_7spatial3knn14BallCoverIndexIlfjEEjPKfjPlPf+0x17) [0x7f6c94093c17]\n#7 in /opt/conda/envs/rapids/lib/python3.8/site-packages/cuml/neighbors/nearest_neighbors.cpython-38-x86_64-linux-gnu.so(+0x48981) [0x7f6f2384d981]\n#8 in /opt/conda/envs/rapids/lib/python3.8/site-packages/cuml/neighbors/nearest_neighbors.cpython-38-x86_64-linux-gnu.so(+0x2d506) [0x7f6f23832506]\n#9 in /opt/conda/envs/rapids/lib/python3.8/site-packages/cuml/neighbors/nearest_neighbors.cpython-38-x86_64-linux-gnu.so(+0x33d6e) [0x7f6f23838d6e]\n#10 in /opt/conda/envs/rapids/bin/python(_PyObject_MakeTpCall+0x31e) [0x5642f0529f2e]\n#11 in /opt/conda/envs/rapids/bin/python(_PyObject_FastCallDict+0x487) [0x5642f050ebe7]\n#12 in /opt/conda/envs/rapids/bin/python(_PyObject_Call_Prepend+0x63) [0x5642f05196a3]\n#13 in /opt/conda/envs/rapids/lib/python3.8/site-packages/cuml/neighbors/nearest_neighbors.cpython-38-x86_64-linux-gnu.so(+0x30622) [0x7f6f23835622]\n#14 in /opt/conda/envs/rapids/bin/python(PyObject_Call+0x24d) [0x5642f0513f9d]\n#15 in /opt/conda/envs/rapids/bin/python(_PyEval_EvalFrameDefault+0x2118) [0x5642f05be0a8]\n#16 in /opt/conda/envs/rapids/bin/python(_PyEval_EvalCodeWithName+0x2c3) [0x5642f059dcf3]\n#17 in /opt/conda/envs/rapids/bin/python(+0x1b0807) [0x5642f059f807]\n#18 in /opt/conda/envs/rapids/bin/python(_PyEval_EvalFrameDefault+0x4d93) [0x5642f05c0d23]\n#19 in /opt/conda/envs/rapids/bin/python(_PyEval_EvalCodeWithName+0x2c3) [0x5642f059dcf3]\n#20 in /opt/conda/envs/rapids/bin/python(PyEval_EvalCodeEx+0x39) [0x5642f059ed59]\n#21 in /opt/conda/envs/rapids/bin/python(PyEval_EvalCode+0x1b) [0x5642f0643b5b]\n#22 in /opt/conda/envs/rapids/bin/python(+0x2731fe) [0x5642f06621fe]\n#23 in /opt/conda/envs/rapids/bin/python(+0x128a5b) [0x5642f0517a5b]\n#24 in /opt/conda/envs/rapids/bin/python(_PyEval_EvalFrameDefault+0x93f) [0x5642f05bc8cf]\n#25 in /opt/conda/envs/rapids/bin/python(+0x180963) [0x5642f056f963]\n#26 in /opt/conda/envs/rapids/bin/python(_PyEval_EvalFrameDefault+0x1d4c) [0x5642f05bdcdc]\n#27 in /opt/conda/envs/rapids/bin/python(+0x180963) [0x5642f056f963]\n#28 in /opt/conda/envs/rapids/bin/python(_PyEval_EvalFrameDefault+0x1d4c) [0x5642f05bdcdc]\n#29 in /opt/conda/envs/rapids/bin/python(+0x180963) [0x5642f056f963]\n#30 in /opt/conda/envs/rapids/bin/python(+0x1947f9) [0x5642f05837f9]\n#31 in /opt/conda/envs/rapids/bin/python(_PyEval_EvalFrameDefault+0xa5b) [0x5642f05bc9eb]\n#32 in /opt/conda/envs/rapids/bin/python(_PyFunction_Vectorcall+0x1a6) [0x5642f059ef06]\n#33 in /opt/conda/envs/rapids/bin/python(_PyEval_EvalFrameDefault+0x93f) [0x5642f05bc8cf]\n#34 in /opt/conda/envs/rapids/bin/python(_PyFunction_Vectorcall+0x1a6) [0x5642f059ef06]\n#35 in /opt/conda/envs/rapids/bin/python(_PyEval_EvalFrameDefault+0xa5b) [0x5642f05bc9eb]\n#36 in /opt/conda/envs/rapids/bin/python(_PyEval_EvalCodeWithName+0x2c3) [0x5642f059dcf3]\n#37 in /opt/conda/envs/rapids/bin/python(_PyFunction_Vectorcall+0x378) [0x5642f059f0d8]\n#38 in /opt/conda/envs/rapids/bin/python(+0x1b0791) [0x5642f059f791]\n#39 in /opt/conda/envs/rapids/bin/python(PyObject_Call+0x5e) [0x5642f0513dae]\n#40 in /opt/conda/envs/rapids/bin/python(_PyEval_EvalFrameDefault+0x2118) [0x5642f05be0a8]\n#41 in /opt/conda/envs/rapids/bin/python(_PyEval_EvalCodeWithName+0x2c3) [0x5642f059dcf3]\n#42 in /opt/conda/envs/rapids/bin/python(+0x1b0807) [0x5642f059f807]\n#43 in /opt/conda/envs/rapids/bin/python(_PyEval_EvalFrameDefault+0x1795) [0x5642f05bd725]\n#44 in /opt/conda/envs/rapids/bin/python(+0x180963) [0x5642f056f963]\n#45 in /opt/conda/envs/rapids/bin/python(_PyEval_EvalFrameDefault+0x1d4c) [0x5642f05bdcdc]\n#46 in /opt/conda/envs/rapids/bin/python(+0x180963) [0x5642f056f963]\n#47 in /opt/conda/envs/rapids/bin/python(_PyEval_EvalFrameDefault+0x1d4c) [0x5642f05bdcdc]\n#48 in /opt/conda/envs/rapids/bin/python(+0x180963) [0x5642f056f963]\n#49 in /opt/conda/envs/rapids/bin/python(_PyEval_EvalFrameDefault+0x1d4c) [0x5642f05bdcdc]\n#50 in /opt/conda/envs/rapids/bin/python(+0x180963) [0x5642f056f963]\n#51 in /opt/conda/envs/rapids/bin/python(_PyEval_EvalFrameDefault+0x1d4c) [0x5642f05bdcdc]\n#52 in /opt/conda/envs/rapids/bin/python(+0x180963) [0x5642f056f963]\n#53 in /opt/conda/envs/rapids/lib/python3.8/lib-dynload/_asyncio.cpython-38-x86_64-linux-gnu.so(+0xa896) [0x7f6f876a9896]\n#54 in /opt/conda/envs/rapids/bin/python(_PyObject_MakeTpCall+0x31e) [0x5642f0529f2e]\n#55 in /opt/conda/envs/rapids/bin/python(+0x21c8ef) [0x5642f060b8ef]\n#56 in /opt/conda/envs/rapids/bin/python(+0x128cd2) [0x5642f0517cd2]\n#57 in /opt/conda/envs/rapids/bin/python(PyVectorcall_Call+0x6e) [0x5642f051aa9e]\n#58 in /opt/conda/envs/rapids/bin/python(_PyEval_EvalFrameDefault+0x5eb4) [0x5642f05c1e44]\n#59 in /opt/conda/envs/rapids/bin/python(_PyFunction_Vectorcall+0x1a6) [0x5642f059ef06]\n#60 in /opt/conda/envs/rapids/bin/python(_PyEval_EvalFrameDefault+0xa5b) [0x5642f05bc9eb]\n#61 in /opt/conda/envs/rapids/bin/python(_PyFunction_Vectorcall+0x1a6) [0x5642f059ef06]\n#62 in /opt/conda/envs/rapids/bin/python(_PyEval_EvalFrameDefault+0xa5b) [0x5642f05bc9eb]\n#63 in /opt/conda/envs/rapids/bin/python(_PyFunction_Vectorcall+0x1a6) [0x5642f059ef06]\n",
     "output_type": "error",
     "traceback": [
      "\u001b[0;31m---------------------------------------------------------------------------\u001b[0m",
      "\u001b[0;31mRuntimeError\u001b[0m                              Traceback (most recent call last)",
      "\u001b[0;32m/tmp/ipykernel_880/3731398685.py\u001b[0m in \u001b[0;36m<module>\u001b[0;34m\u001b[0m\n\u001b[0;32m----> 1\u001b[0;31m \u001b[0mdistances\u001b[0m\u001b[0;34m,\u001b[0m\u001b[0mindices\u001b[0m \u001b[0;34m=\u001b[0m \u001b[0mknn\u001b[0m\u001b[0;34m.\u001b[0m\u001b[0mkneighbors\u001b[0m\u001b[0;34m(\u001b[0m\u001b[0minfected_gdf\u001b[0m\u001b[0;34m[\u001b[0m\u001b[0;34m[\u001b[0m\u001b[0;34m'northing'\u001b[0m\u001b[0;34m,\u001b[0m\u001b[0;34m'easting'\u001b[0m\u001b[0;34m]\u001b[0m\u001b[0;34m]\u001b[0m\u001b[0;34m)\u001b[0m\u001b[0;34m\u001b[0m\u001b[0;34m\u001b[0m\u001b[0m\n\u001b[0m",
      "\u001b[0;32m/opt/conda/envs/rapids/lib/python3.8/site-packages/cuml/internals/api_decorators.py\u001b[0m in \u001b[0;36minner_get\u001b[0;34m(*args, **kwargs)\u001b[0m\n\u001b[1;32m    584\u001b[0m \u001b[0;34m\u001b[0m\u001b[0m\n\u001b[1;32m    585\u001b[0m                 \u001b[0;31m# Call the function\u001b[0m\u001b[0;34m\u001b[0m\u001b[0;34m\u001b[0m\u001b[0;34m\u001b[0m\u001b[0m\n\u001b[0;32m--> 586\u001b[0;31m                 \u001b[0mret_val\u001b[0m \u001b[0;34m=\u001b[0m \u001b[0mfunc\u001b[0m\u001b[0;34m(\u001b[0m\u001b[0;34m*\u001b[0m\u001b[0margs\u001b[0m\u001b[0;34m,\u001b[0m \u001b[0;34m**\u001b[0m\u001b[0mkwargs\u001b[0m\u001b[0;34m)\u001b[0m\u001b[0;34m\u001b[0m\u001b[0;34m\u001b[0m\u001b[0m\n\u001b[0m\u001b[1;32m    587\u001b[0m \u001b[0;34m\u001b[0m\u001b[0m\n\u001b[1;32m    588\u001b[0m             \u001b[0;32mreturn\u001b[0m \u001b[0mcm\u001b[0m\u001b[0;34m.\u001b[0m\u001b[0mprocess_return\u001b[0m\u001b[0;34m(\u001b[0m\u001b[0mret_val\u001b[0m\u001b[0;34m)\u001b[0m\u001b[0;34m\u001b[0m\u001b[0;34m\u001b[0m\u001b[0m\n",
      "\u001b[0;32mcuml/neighbors/nearest_neighbors.pyx\u001b[0m in \u001b[0;36mcuml.neighbors.nearest_neighbors.NearestNeighbors.kneighbors\u001b[0;34m()\u001b[0m\n",
      "\u001b[0;32mcuml/neighbors/nearest_neighbors.pyx\u001b[0m in \u001b[0;36mcuml.neighbors.nearest_neighbors.NearestNeighbors._kneighbors\u001b[0;34m()\u001b[0m\n",
      "\u001b[0;32mcuml/neighbors/nearest_neighbors.pyx\u001b[0m in \u001b[0;36mcuml.neighbors.nearest_neighbors.NearestNeighbors._kneighbors_dense\u001b[0;34m()\u001b[0m\n",
      "\u001b[0;31mRuntimeError\u001b[0m: CUDA error encountered at: file=_deps/raft-src/cpp/include/raft/spatial/knn/detail/knn_brute_force_faiss.cuh line=355: call='cudaPeekAtLastError()', Reason=cudaErrorIllegalAddress:an illegal memory access was encountered\nObtained 64 stack frames\n#0 in /opt/conda/envs/rapids/lib/python3.8/site-packages/cuml/common/../../../../libcuml++.so(_ZN4raft9exception18collect_call_stackEv+0x3b) [0x7f6c93c2f54b]\n#1 in /opt/conda/envs/rapids/lib/python3.8/site-packages/cuml/common/../../../../libcuml++.so(_ZN4raft10cuda_errorC1ERKNSt7__cxx1112basic_stringIcSt11char_traitsIcESaIcEEE+0xbd) [0x7f6c93c30a8d]\n#2 in /opt/conda/envs/rapids/lib/python3.8/site-packages/cuml/common/../../../../libraft_nn.so(_ZN4raft7spatial3knn6detail20brute_force_knn_implIjlfEEvRKNS_8handle_tERSt6vectorIPT1_SaIS9_EERS7_IT_SaISD_EESD_S9_SD_PT0_S9_SD_bbPS7_ISH_SaISH_EENS_8distance12DistanceTypeEf+0x1ffd) [0x7f6c6fd1208d]\n#3 in /opt/conda/envs/rapids/lib/python3.8/site-packages/cuml/common/../../../../libraft_nn.so(_ZN4raft7spatial3knn6detail19k_closest_landmarksIlfjEEvRKNS_8handle_tERNS1_14BallCoverIndexIT_T0_T1_EEPKS9_SA_SA_PS8_PS9_+0xbf) [0x7f6c6fd12bff]\n#4 in /opt/conda/envs/rapids/lib/python3.8/site-packages/cuml/common/../../../../libraft_nn.so(_ZN4raft7spatial3knn6detail13rbc_knn_queryIlfjNS2_13EuclideanFuncIfjEEEEvRKNS_8handle_tERNS1_14BallCoverIndexIT_T0_T1_EESC_PKSB_SC_PSA_PSB_T2_bf+0x14e) [0x7f6c6fd246de]\n#5 in /opt/conda/envs/rapids/lib/python3.8/site-packages/cuml/common/../../../../libraft_nn.so(_ZN4raft7spatial3knn13rbc_knn_queryIlfjEEvRKNS_8handle_tERNS1_14BallCoverIndexIT_T0_T1_EES9_PKS8_S9_PS7_PS8_bf+0x5f) [0x7f6c6fd24d7f]\n#6 in /opt/conda/envs/rapids/lib/python3.8/site-packages/cuml/common/../../../../libcuml++.so(_ZN2ML13rbc_knn_queryERKN4raft8handle_tERNS0_7spatial3knn14BallCoverIndexIlfjEEjPKfjPlPf+0x17) [0x7f6c94093c17]\n#7 in /opt/conda/envs/rapids/lib/python3.8/site-packages/cuml/neighbors/nearest_neighbors.cpython-38-x86_64-linux-gnu.so(+0x48981) [0x7f6f2384d981]\n#8 in /opt/conda/envs/rapids/lib/python3.8/site-packages/cuml/neighbors/nearest_neighbors.cpython-38-x86_64-linux-gnu.so(+0x2d506) [0x7f6f23832506]\n#9 in /opt/conda/envs/rapids/lib/python3.8/site-packages/cuml/neighbors/nearest_neighbors.cpython-38-x86_64-linux-gnu.so(+0x33d6e) [0x7f6f23838d6e]\n#10 in /opt/conda/envs/rapids/bin/python(_PyObject_MakeTpCall+0x31e) [0x5642f0529f2e]\n#11 in /opt/conda/envs/rapids/bin/python(_PyObject_FastCallDict+0x487) [0x5642f050ebe7]\n#12 in /opt/conda/envs/rapids/bin/python(_PyObject_Call_Prepend+0x63) [0x5642f05196a3]\n#13 in /opt/conda/envs/rapids/lib/python3.8/site-packages/cuml/neighbors/nearest_neighbors.cpython-38-x86_64-linux-gnu.so(+0x30622) [0x7f6f23835622]\n#14 in /opt/conda/envs/rapids/bin/python(PyObject_Call+0x24d) [0x5642f0513f9d]\n#15 in /opt/conda/envs/rapids/bin/python(_PyEval_EvalFrameDefault+0x2118) [0x5642f05be0a8]\n#16 in /opt/conda/envs/rapids/bin/python(_PyEval_EvalCodeWithName+0x2c3) [0x5642f059dcf3]\n#17 in /opt/conda/envs/rapids/bin/python(+0x1b0807) [0x5642f059f807]\n#18 in /opt/conda/envs/rapids/bin/python(_PyEval_EvalFrameDefault+0x4d93) [0x5642f05c0d23]\n#19 in /opt/conda/envs/rapids/bin/python(_PyEval_EvalCodeWithName+0x2c3) [0x5642f059dcf3]\n#20 in /opt/conda/envs/rapids/bin/python(PyEval_EvalCodeEx+0x39) [0x5642f059ed59]\n#21 in /opt/conda/envs/rapids/bin/python(PyEval_EvalCode+0x1b) [0x5642f0643b5b]\n#22 in /opt/conda/envs/rapids/bin/python(+0x2731fe) [0x5642f06621fe]\n#23 in /opt/conda/envs/rapids/bin/python(+0x128a5b) [0x5642f0517a5b]\n#24 in /opt/conda/envs/rapids/bin/python(_PyEval_EvalFrameDefault+0x93f) [0x5642f05bc8cf]\n#25 in /opt/conda/envs/rapids/bin/python(+0x180963) [0x5642f056f963]\n#26 in /opt/conda/envs/rapids/bin/python(_PyEval_EvalFrameDefault+0x1d4c) [0x5642f05bdcdc]\n#27 in /opt/conda/envs/rapids/bin/python(+0x180963) [0x5642f056f963]\n#28 in /opt/conda/envs/rapids/bin/python(_PyEval_EvalFrameDefault+0x1d4c) [0x5642f05bdcdc]\n#29 in /opt/conda/envs/rapids/bin/python(+0x180963) [0x5642f056f963]\n#30 in /opt/conda/envs/rapids/bin/python(+0x1947f9) [0x5642f05837f9]\n#31 in /opt/conda/envs/rapids/bin/python(_PyEval_EvalFrameDefault+0xa5b) [0x5642f05bc9eb]\n#32 in /opt/conda/envs/rapids/bin/python(_PyFunction_Vectorcall+0x1a6) [0x5642f059ef06]\n#33 in /opt/conda/envs/rapids/bin/python(_PyEval_EvalFrameDefault+0x93f) [0x5642f05bc8cf]\n#34 in /opt/conda/envs/rapids/bin/python(_PyFunction_Vectorcall+0x1a6) [0x5642f059ef06]\n#35 in /opt/conda/envs/rapids/bin/python(_PyEval_EvalFrameDefault+0xa5b) [0x5642f05bc9eb]\n#36 in /opt/conda/envs/rapids/bin/python(_PyEval_EvalCodeWithName+0x2c3) [0x5642f059dcf3]\n#37 in /opt/conda/envs/rapids/bin/python(_PyFunction_Vectorcall+0x378) [0x5642f059f0d8]\n#38 in /opt/conda/envs/rapids/bin/python(+0x1b0791) [0x5642f059f791]\n#39 in /opt/conda/envs/rapids/bin/python(PyObject_Call+0x5e) [0x5642f0513dae]\n#40 in /opt/conda/envs/rapids/bin/python(_PyEval_EvalFrameDefault+0x2118) [0x5642f05be0a8]\n#41 in /opt/conda/envs/rapids/bin/python(_PyEval_EvalCodeWithName+0x2c3) [0x5642f059dcf3]\n#42 in /opt/conda/envs/rapids/bin/python(+0x1b0807) [0x5642f059f807]\n#43 in /opt/conda/envs/rapids/bin/python(_PyEval_EvalFrameDefault+0x1795) [0x5642f05bd725]\n#44 in /opt/conda/envs/rapids/bin/python(+0x180963) [0x5642f056f963]\n#45 in /opt/conda/envs/rapids/bin/python(_PyEval_EvalFrameDefault+0x1d4c) [0x5642f05bdcdc]\n#46 in /opt/conda/envs/rapids/bin/python(+0x180963) [0x5642f056f963]\n#47 in /opt/conda/envs/rapids/bin/python(_PyEval_EvalFrameDefault+0x1d4c) [0x5642f05bdcdc]\n#48 in /opt/conda/envs/rapids/bin/python(+0x180963) [0x5642f056f963]\n#49 in /opt/conda/envs/rapids/bin/python(_PyEval_EvalFrameDefault+0x1d4c) [0x5642f05bdcdc]\n#50 in /opt/conda/envs/rapids/bin/python(+0x180963) [0x5642f056f963]\n#51 in /opt/conda/envs/rapids/bin/python(_PyEval_EvalFrameDefault+0x1d4c) [0x5642f05bdcdc]\n#52 in /opt/conda/envs/rapids/bin/python(+0x180963) [0x5642f056f963]\n#53 in /opt/conda/envs/rapids/lib/python3.8/lib-dynload/_asyncio.cpython-38-x86_64-linux-gnu.so(+0xa896) [0x7f6f876a9896]\n#54 in /opt/conda/envs/rapids/bin/python(_PyObject_MakeTpCall+0x31e) [0x5642f0529f2e]\n#55 in /opt/conda/envs/rapids/bin/python(+0x21c8ef) [0x5642f060b8ef]\n#56 in /opt/conda/envs/rapids/bin/python(+0x128cd2) [0x5642f0517cd2]\n#57 in /opt/conda/envs/rapids/bin/python(PyVectorcall_Call+0x6e) [0x5642f051aa9e]\n#58 in /opt/conda/envs/rapids/bin/python(_PyEval_EvalFrameDefault+0x5eb4) [0x5642f05c1e44]\n#59 in /opt/conda/envs/rapids/bin/python(_PyFunction_Vectorcall+0x1a6) [0x5642f059ef06]\n#60 in /opt/conda/envs/rapids/bin/python(_PyEval_EvalFrameDefault+0xa5b) [0x5642f05bc9eb]\n#61 in /opt/conda/envs/rapids/bin/python(_PyFunction_Vectorcall+0x1a6) [0x5642f059ef06]\n#62 in /opt/conda/envs/rapids/bin/python(_PyEval_EvalFrameDefault+0xa5b) [0x5642f05bc9eb]\n#63 in /opt/conda/envs/rapids/bin/python(_PyFunction_Vectorcall+0x1a6) [0x5642f059ef06]\n"
     ]
    }
   ],
   "source": [
    "distances,indices = knn.kneighbors(infected_gdf[['northing','easting']])"
   ]
  },
  {
   "cell_type": "markdown",
   "metadata": {},
   "source": [
    "### Check Your Solution"
   ]
  },
  {
   "cell_type": "markdown",
   "metadata": {},
   "source": [
    "`indices`, returned from your use of `knn.kneighbors` immediately above, should map person indices to their closest clinic/hospital indices:"
   ]
  },
  {
   "cell_type": "code",
   "execution_count": 11,
   "metadata": {},
   "outputs": [
    {
     "ename": "NameError",
     "evalue": "name 'indices' is not defined",
     "output_type": "error",
     "traceback": [
      "\u001b[0;31m---------------------------------------------------------------------------\u001b[0m",
      "\u001b[0;31mNameError\u001b[0m                                 Traceback (most recent call last)",
      "\u001b[0;32m/tmp/ipykernel_880/4045283397.py\u001b[0m in \u001b[0;36m<module>\u001b[0;34m\u001b[0m\n\u001b[0;32m----> 1\u001b[0;31m \u001b[0mindices\u001b[0m\u001b[0;34m.\u001b[0m\u001b[0mhead\u001b[0m\u001b[0;34m(\u001b[0m\u001b[0;34m)\u001b[0m\u001b[0;34m\u001b[0m\u001b[0;34m\u001b[0m\u001b[0m\n\u001b[0m",
      "\u001b[0;31mNameError\u001b[0m: name 'indices' is not defined"
     ]
    }
   ],
   "source": [
    "indices.head()"
   ]
  },
  {
   "cell_type": "markdown",
   "metadata": {},
   "source": [
    "Here you can print an infected individual's coordinates from `infected_gdf`:"
   ]
  },
  {
   "cell_type": "code",
   "execution_count": 12,
   "metadata": {},
   "outputs": [
    {
     "ename": "MemoryError",
     "evalue": "std::bad_alloc: CUDA error at: /opt/conda/envs/rapids/include/rmm/mr/device/cuda_memory_resource.hpp",
     "output_type": "error",
     "traceback": [
      "\u001b[0;31m---------------------------------------------------------------------------\u001b[0m",
      "\u001b[0;31mMemoryError\u001b[0m                               Traceback (most recent call last)",
      "\u001b[0;32m/tmp/ipykernel_880/4140715060.py\u001b[0m in \u001b[0;36m<module>\u001b[0;34m\u001b[0m\n\u001b[0;32m----> 1\u001b[0;31m \u001b[0minfected_gdf\u001b[0m\u001b[0;34m.\u001b[0m\u001b[0miloc\u001b[0m\u001b[0;34m[\u001b[0m\u001b[0;36m0\u001b[0m\u001b[0;34m]\u001b[0m \u001b[0;31m# get the coords of an infected individual (in this case, individual 0)\u001b[0m\u001b[0;34m\u001b[0m\u001b[0;34m\u001b[0m\u001b[0m\n\u001b[0m",
      "\u001b[0;32m/opt/conda/envs/rapids/lib/python3.8/site-packages/cudf/core/dataframe.py\u001b[0m in \u001b[0;36m__getitem__\u001b[0;34m(self, arg)\u001b[0m\n\u001b[1;32m    105\u001b[0m             \u001b[0;32mif\u001b[0m \u001b[0;32mnot\u001b[0m \u001b[0misinstance\u001b[0m\u001b[0;34m(\u001b[0m\u001b[0marg\u001b[0m\u001b[0;34m,\u001b[0m \u001b[0mtuple\u001b[0m\u001b[0;34m)\u001b[0m\u001b[0;34m:\u001b[0m\u001b[0;34m\u001b[0m\u001b[0;34m\u001b[0m\u001b[0m\n\u001b[1;32m    106\u001b[0m                 \u001b[0marg\u001b[0m \u001b[0;34m=\u001b[0m \u001b[0;34m(\u001b[0m\u001b[0marg\u001b[0m\u001b[0;34m,\u001b[0m \u001b[0mslice\u001b[0m\u001b[0;34m(\u001b[0m\u001b[0;32mNone\u001b[0m\u001b[0;34m)\u001b[0m\u001b[0;34m)\u001b[0m\u001b[0;34m\u001b[0m\u001b[0;34m\u001b[0m\u001b[0m\n\u001b[0;32m--> 107\u001b[0;31m             \u001b[0;32mreturn\u001b[0m \u001b[0mself\u001b[0m\u001b[0;34m.\u001b[0m\u001b[0m_getitem_tuple_arg\u001b[0m\u001b[0;34m(\u001b[0m\u001b[0marg\u001b[0m\u001b[0;34m)\u001b[0m\u001b[0;34m\u001b[0m\u001b[0;34m\u001b[0m\u001b[0m\n\u001b[0m\u001b[1;32m    108\u001b[0m \u001b[0;34m\u001b[0m\u001b[0m\n\u001b[1;32m    109\u001b[0m     \u001b[0;32mdef\u001b[0m \u001b[0m__setitem__\u001b[0m\u001b[0;34m(\u001b[0m\u001b[0mself\u001b[0m\u001b[0;34m,\u001b[0m \u001b[0mkey\u001b[0m\u001b[0;34m,\u001b[0m \u001b[0mvalue\u001b[0m\u001b[0;34m)\u001b[0m\u001b[0;34m:\u001b[0m\u001b[0;34m\u001b[0m\u001b[0;34m\u001b[0m\u001b[0m\n",
      "\u001b[0;32m/opt/conda/envs/rapids/lib/python3.8/contextlib.py\u001b[0m in \u001b[0;36minner\u001b[0;34m(*args, **kwds)\u001b[0m\n\u001b[1;32m     73\u001b[0m         \u001b[0;32mdef\u001b[0m \u001b[0minner\u001b[0m\u001b[0;34m(\u001b[0m\u001b[0;34m*\u001b[0m\u001b[0margs\u001b[0m\u001b[0;34m,\u001b[0m \u001b[0;34m**\u001b[0m\u001b[0mkwds\u001b[0m\u001b[0;34m)\u001b[0m\u001b[0;34m:\u001b[0m\u001b[0;34m\u001b[0m\u001b[0;34m\u001b[0m\u001b[0m\n\u001b[1;32m     74\u001b[0m             \u001b[0;32mwith\u001b[0m \u001b[0mself\u001b[0m\u001b[0;34m.\u001b[0m\u001b[0m_recreate_cm\u001b[0m\u001b[0;34m(\u001b[0m\u001b[0;34m)\u001b[0m\u001b[0;34m:\u001b[0m\u001b[0;34m\u001b[0m\u001b[0;34m\u001b[0m\u001b[0m\n\u001b[0;32m---> 75\u001b[0;31m                 \u001b[0;32mreturn\u001b[0m \u001b[0mfunc\u001b[0m\u001b[0;34m(\u001b[0m\u001b[0;34m*\u001b[0m\u001b[0margs\u001b[0m\u001b[0;34m,\u001b[0m \u001b[0;34m**\u001b[0m\u001b[0mkwds\u001b[0m\u001b[0;34m)\u001b[0m\u001b[0;34m\u001b[0m\u001b[0;34m\u001b[0m\u001b[0m\n\u001b[0m\u001b[1;32m     76\u001b[0m         \u001b[0;32mreturn\u001b[0m \u001b[0minner\u001b[0m\u001b[0;34m\u001b[0m\u001b[0;34m\u001b[0m\u001b[0m\n\u001b[1;32m     77\u001b[0m \u001b[0;34m\u001b[0m\u001b[0m\n",
      "\u001b[0;32m/opt/conda/envs/rapids/lib/python3.8/site-packages/cudf/core/dataframe.py\u001b[0m in \u001b[0;36m_getitem_tuple_arg\u001b[0;34m(self, arg)\u001b[0m\n\u001b[1;32m    384\u001b[0m         \u001b[0;31m# Reindex\u001b[0m\u001b[0;34m\u001b[0m\u001b[0;34m\u001b[0m\u001b[0;34m\u001b[0m\u001b[0m\n\u001b[1;32m    385\u001b[0m         \u001b[0;32mif\u001b[0m \u001b[0mdf\u001b[0m\u001b[0;34m.\u001b[0m\u001b[0mshape\u001b[0m\u001b[0;34m[\u001b[0m\u001b[0;36m0\u001b[0m\u001b[0;34m]\u001b[0m \u001b[0;34m==\u001b[0m \u001b[0;36m1\u001b[0m\u001b[0;34m:\u001b[0m  \u001b[0;31m# we have a single row without an index\u001b[0m\u001b[0;34m\u001b[0m\u001b[0;34m\u001b[0m\u001b[0m\n\u001b[0;32m--> 386\u001b[0;31m             \u001b[0mdf\u001b[0m\u001b[0;34m.\u001b[0m\u001b[0mindex\u001b[0m \u001b[0;34m=\u001b[0m \u001b[0mas_index\u001b[0m\u001b[0;34m(\u001b[0m\u001b[0mself\u001b[0m\u001b[0;34m.\u001b[0m\u001b[0m_frame\u001b[0m\u001b[0;34m.\u001b[0m\u001b[0mindex\u001b[0m\u001b[0;34m[\u001b[0m\u001b[0marg\u001b[0m\u001b[0;34m[\u001b[0m\u001b[0;36m0\u001b[0m\u001b[0;34m]\u001b[0m\u001b[0;34m]\u001b[0m\u001b[0;34m)\u001b[0m\u001b[0;34m\u001b[0m\u001b[0;34m\u001b[0m\u001b[0m\n\u001b[0m\u001b[1;32m    387\u001b[0m \u001b[0;34m\u001b[0m\u001b[0m\n\u001b[1;32m    388\u001b[0m         \u001b[0;31m# Iloc Step 4:\u001b[0m\u001b[0;34m\u001b[0m\u001b[0;34m\u001b[0m\u001b[0;34m\u001b[0m\u001b[0m\n",
      "\u001b[0;32m/opt/conda/envs/rapids/lib/python3.8/site-packages/cudf/core/index.py\u001b[0m in \u001b[0;36m__getitem__\u001b[0;34m(self, index)\u001b[0m\n\u001b[1;32m   1099\u001b[0m                 \u001b[0;34m\"Getting a scalar from an IntervalIndex is not yet supported\"\u001b[0m\u001b[0;34m\u001b[0m\u001b[0;34m\u001b[0m\u001b[0m\n\u001b[1;32m   1100\u001b[0m             )\n\u001b[0;32m-> 1101\u001b[0;31m         \u001b[0mres\u001b[0m \u001b[0;34m=\u001b[0m \u001b[0mself\u001b[0m\u001b[0;34m.\u001b[0m\u001b[0m_values\u001b[0m\u001b[0;34m[\u001b[0m\u001b[0mindex\u001b[0m\u001b[0;34m]\u001b[0m\u001b[0;34m\u001b[0m\u001b[0;34m\u001b[0m\u001b[0m\n\u001b[0m\u001b[1;32m   1102\u001b[0m         \u001b[0;32mif\u001b[0m \u001b[0;32mnot\u001b[0m \u001b[0misinstance\u001b[0m\u001b[0;34m(\u001b[0m\u001b[0mindex\u001b[0m\u001b[0;34m,\u001b[0m \u001b[0mint\u001b[0m\u001b[0;34m)\u001b[0m\u001b[0;34m:\u001b[0m\u001b[0;34m\u001b[0m\u001b[0;34m\u001b[0m\u001b[0m\n\u001b[1;32m   1103\u001b[0m             \u001b[0mres\u001b[0m \u001b[0;34m=\u001b[0m \u001b[0mas_index\u001b[0m\u001b[0;34m(\u001b[0m\u001b[0mres\u001b[0m\u001b[0;34m)\u001b[0m\u001b[0;34m\u001b[0m\u001b[0;34m\u001b[0m\u001b[0m\n",
      "\u001b[0;32m/opt/conda/envs/rapids/lib/python3.8/site-packages/cudf/core/column/column.py\u001b[0m in \u001b[0;36m__getitem__\u001b[0;34m(self, arg)\u001b[0m\n\u001b[1;32m    520\u001b[0m     \u001b[0;32mdef\u001b[0m \u001b[0m__getitem__\u001b[0m\u001b[0;34m(\u001b[0m\u001b[0mself\u001b[0m\u001b[0;34m,\u001b[0m \u001b[0marg\u001b[0m\u001b[0;34m)\u001b[0m \u001b[0;34m->\u001b[0m \u001b[0mUnion\u001b[0m\u001b[0;34m[\u001b[0m\u001b[0mScalarLike\u001b[0m\u001b[0;34m,\u001b[0m \u001b[0mColumnBase\u001b[0m\u001b[0;34m]\u001b[0m\u001b[0;34m:\u001b[0m\u001b[0;34m\u001b[0m\u001b[0;34m\u001b[0m\u001b[0m\n\u001b[1;32m    521\u001b[0m         \u001b[0;32mif\u001b[0m \u001b[0m_is_scalar_or_zero_d_array\u001b[0m\u001b[0;34m(\u001b[0m\u001b[0marg\u001b[0m\u001b[0;34m)\u001b[0m\u001b[0;34m:\u001b[0m\u001b[0;34m\u001b[0m\u001b[0;34m\u001b[0m\u001b[0m\n\u001b[0;32m--> 522\u001b[0;31m             \u001b[0;32mreturn\u001b[0m \u001b[0mself\u001b[0m\u001b[0;34m.\u001b[0m\u001b[0melement_indexing\u001b[0m\u001b[0;34m(\u001b[0m\u001b[0mint\u001b[0m\u001b[0;34m(\u001b[0m\u001b[0marg\u001b[0m\u001b[0;34m)\u001b[0m\u001b[0;34m)\u001b[0m\u001b[0;34m\u001b[0m\u001b[0;34m\u001b[0m\u001b[0m\n\u001b[0m\u001b[1;32m    523\u001b[0m         \u001b[0;32melif\u001b[0m \u001b[0misinstance\u001b[0m\u001b[0;34m(\u001b[0m\u001b[0marg\u001b[0m\u001b[0;34m,\u001b[0m \u001b[0mslice\u001b[0m\u001b[0;34m)\u001b[0m\u001b[0;34m:\u001b[0m\u001b[0;34m\u001b[0m\u001b[0;34m\u001b[0m\u001b[0m\n\u001b[1;32m    524\u001b[0m             \u001b[0mstart\u001b[0m\u001b[0;34m,\u001b[0m \u001b[0mstop\u001b[0m\u001b[0;34m,\u001b[0m \u001b[0mstride\u001b[0m \u001b[0;34m=\u001b[0m \u001b[0marg\u001b[0m\u001b[0;34m.\u001b[0m\u001b[0mindices\u001b[0m\u001b[0;34m(\u001b[0m\u001b[0mlen\u001b[0m\u001b[0;34m(\u001b[0m\u001b[0mself\u001b[0m\u001b[0;34m)\u001b[0m\u001b[0;34m)\u001b[0m\u001b[0;34m\u001b[0m\u001b[0;34m\u001b[0m\u001b[0m\n",
      "\u001b[0;32m/opt/conda/envs/rapids/lib/python3.8/site-packages/cudf/core/column/column.py\u001b[0m in \u001b[0;36melement_indexing\u001b[0;34m(self, index)\u001b[0m\n\u001b[1;32m    493\u001b[0m             \u001b[0;32mraise\u001b[0m \u001b[0mIndexError\u001b[0m\u001b[0;34m(\u001b[0m\u001b[0;34m\"single positional indexer is out-of-bounds\"\u001b[0m\u001b[0;34m)\u001b[0m\u001b[0;34m\u001b[0m\u001b[0;34m\u001b[0m\u001b[0m\n\u001b[1;32m    494\u001b[0m \u001b[0;34m\u001b[0m\u001b[0m\n\u001b[0;32m--> 495\u001b[0;31m         \u001b[0;32mreturn\u001b[0m \u001b[0mlibcudf\u001b[0m\u001b[0;34m.\u001b[0m\u001b[0mcopying\u001b[0m\u001b[0;34m.\u001b[0m\u001b[0mget_element\u001b[0m\u001b[0;34m(\u001b[0m\u001b[0mself\u001b[0m\u001b[0;34m,\u001b[0m \u001b[0midx\u001b[0m\u001b[0;34m)\u001b[0m\u001b[0;34m.\u001b[0m\u001b[0mvalue\u001b[0m\u001b[0;34m\u001b[0m\u001b[0;34m\u001b[0m\u001b[0m\n\u001b[0m\u001b[1;32m    496\u001b[0m \u001b[0;34m\u001b[0m\u001b[0m\n\u001b[1;32m    497\u001b[0m     \u001b[0;32mdef\u001b[0m \u001b[0mslice\u001b[0m\u001b[0;34m(\u001b[0m\u001b[0mself\u001b[0m\u001b[0;34m,\u001b[0m \u001b[0mstart\u001b[0m\u001b[0;34m:\u001b[0m \u001b[0mint\u001b[0m\u001b[0;34m,\u001b[0m \u001b[0mstop\u001b[0m\u001b[0;34m:\u001b[0m \u001b[0mint\u001b[0m\u001b[0;34m,\u001b[0m \u001b[0mstride\u001b[0m\u001b[0;34m:\u001b[0m \u001b[0mint\u001b[0m \u001b[0;34m=\u001b[0m \u001b[0;32mNone\u001b[0m\u001b[0;34m)\u001b[0m \u001b[0;34m->\u001b[0m \u001b[0mColumnBase\u001b[0m\u001b[0;34m:\u001b[0m\u001b[0;34m\u001b[0m\u001b[0;34m\u001b[0m\u001b[0m\n",
      "\u001b[0;32mcudf/_lib/copying.pyx\u001b[0m in \u001b[0;36mcudf._lib.copying.get_element\u001b[0;34m()\u001b[0m\n",
      "\u001b[0;31mMemoryError\u001b[0m: std::bad_alloc: CUDA error at: /opt/conda/envs/rapids/include/rmm/mr/device/cuda_memory_resource.hpp"
     ]
    }
   ],
   "source": [
    "infected_gdf.iloc[0] # get the coords of an infected individual (in this case, individual 0)"
   ]
  },
  {
   "cell_type": "markdown",
   "metadata": {},
   "source": [
    "You should be able to used the mapped index for the nearest facility to see that indeed the nearest facility is at a nearby coordinate:"
   ]
  },
  {
   "cell_type": "code",
   "execution_count": null,
   "metadata": {},
   "outputs": [],
   "source": [
    "all_med.iloc[1234] # printing the entry for facility 1234 (replace with the index identified as closest to the individual)"
   ]
  },
  {
   "cell_type": "markdown",
   "metadata": {},
   "source": [
    "<div align=\"center\"><h2>Please Restart the Kernel</h2></div>"
   ]
  },
  {
   "cell_type": "markdown",
   "metadata": {},
   "source": [
    "...before moving to the next notebook."
   ]
  },
  {
   "cell_type": "code",
   "execution_count": null,
   "metadata": {},
   "outputs": [],
   "source": [
    "import IPython\n",
    "app = IPython.Application.instance()\n",
    "app.kernel.do_shutdown(True)"
   ]
  }
 ],
 "metadata": {
  "kernelspec": {
   "display_name": "Python 3 (ipykernel)",
   "language": "python",
   "name": "python3"
  },
  "language_info": {
   "codemirror_mode": {
    "name": "ipython",
    "version": 3
   },
   "file_extension": ".py",
   "mimetype": "text/x-python",
   "name": "python",
   "nbconvert_exporter": "python",
   "pygments_lexer": "ipython3",
   "version": "3.10.0"
  }
 },
 "nbformat": 4,
 "nbformat_minor": 4
}
